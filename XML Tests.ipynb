{
 "cells": [
  {
   "cell_type": "markdown",
   "metadata": {},
   "source": [
    "# XML Testing\n",
    "\n",
    "Author @ysbecca"
   ]
  },
  {
   "cell_type": "code",
   "execution_count": 1,
   "metadata": {
    "collapsed": true,
    "ExecuteTime": {
     "end_time": "2023-10-24T07:19:45.131699200Z",
     "start_time": "2023-10-24T07:19:44.987086500Z"
    }
   },
   "outputs": [],
   "source": [
    "import os\n",
    "import os\n",
    "OPENSLIDE_PATH = r\"E:\\Java\\openslide-win64-20221217\\bin\"\n",
    "os.add_dll_directory(OPENSLIDE_PATH)\n",
    "from xml.dom import minidom\n",
    "import numpy as np\n",
    "import openslide\n",
    "from openslide import open_slide \n",
    "from openslide.deepzoom import DeepZoomGenerator\n",
    "from glob import glob"
   ]
  },
  {
   "cell_type": "code",
   "execution_count": 2,
   "metadata": {
    "collapsed": true,
    "ExecuteTime": {
     "end_time": "2023-10-24T07:21:00.620400700Z",
     "start_time": "2023-10-24T07:21:00.580426300Z"
    }
   },
   "outputs": [],
   "source": [
    "path = r'H:\\ICIAR2018BACH_Challenge\\ICIAR2018_BACH_Challenge\\py_wsi_data\\A02.xml'"
   ]
  },
  {
   "cell_type": "code",
   "execution_count": 3,
   "metadata": {
    "ExecuteTime": {
     "end_time": "2023-10-24T07:25:46.870113200Z",
     "start_time": "2023-10-24T07:25:46.654711700Z"
    }
   },
   "outputs": [],
   "source": [
    "xml = minidom.parse(path)\n",
    "# The first region marked is always the tumour delineation\n",
    "regions_ = xml.getElementsByTagName(\"Region\")\n",
    "regions, region_labels = [], []\n",
    "for region in regions_:\n",
    "    vertices = region.getElementsByTagName(\"Vertex\")\n",
    "    attribute = region.getElementsByTagName(\"Attribute\")\n",
    "    if len(attribute) > 0:\n",
    "        r_label = attribute[0].attributes['Value'].value\n",
    "    else:\n",
    "        r_label = region.getAttribute('Text')\n",
    "    region_labels.append(r_label)\n",
    "    \n",
    "    # Store x, y coordinates into a 2D array in format [x1, y1], [x2, y2], ...\n",
    "    coords = np.zeros((len(vertices), 2))\n",
    "    \n",
    "    for i, vertex in enumerate(vertices):\n",
    "        coords[i][0] = vertex.attributes['X'].value\n",
    "        coords[i][1] = vertex.attributes['Y'].value\n",
    "        \n",
    "    regions.append(coords)"
   ]
  },
  {
   "cell_type": "code",
   "execution_count": 14,
   "metadata": {
    "ExecuteTime": {
     "end_time": "2023-10-24T07:57:46.975144700Z",
     "start_time": "2023-10-24T07:57:46.949283800Z"
    }
   },
   "outputs": [
    {
     "name": "stdout",
     "output_type": "stream",
     "text": [
      "[17]\n",
      "[17]\n"
     ]
    }
   ],
   "source": [
    "def get_dimensions(lst):\n",
    "    if isinstance(lst, list):\n",
    "        # 如果是列表，递归检查第一个元素的维度\n",
    "        return [len(lst)] + get_dimensions(lst[0])\n",
    "    else:\n",
    "        # 如果不是列表，返回空列表表示维度结束\n",
    "        return []\n",
    "    \n",
    "print(get_dimensions(regions))\n",
    "print(get_dimensions(region_labels))\n",
    "# regions_nparray=np.array(regions)\n",
    "# region_labels_nparray = np.array(region_labels)\n",
    "# print(regions_nparray.shape)\n",
    "# print(region_labels_nparray.shape)\n",
    "\n",
    "# print(np.shape(regions))\n",
    "# print(np.shape(region_labels))"
   ]
  },
  {
   "cell_type": "code",
   "execution_count": 16,
   "metadata": {
    "ExecuteTime": {
     "end_time": "2023-10-24T07:58:30.556632600Z",
     "start_time": "2023-10-24T07:58:30.547656Z"
    }
   },
   "outputs": [
    {
     "data": {
      "text/plain": "['Benign',\n 'Benign',\n 'Benign',\n 'Benign',\n 'Benign',\n 'Carcinoma in situ',\n 'Carcinoma in situ',\n 'Carcinoma in situ',\n 'Carcinoma in situ',\n 'Carcinoma in situ',\n 'Carcinoma in situ',\n 'Benign',\n 'Carcinoma in situ',\n 'Carcinoma in situ',\n 'Carcinoma invasive',\n 'Carcinoma invasive',\n 'Carcinoma invasive']"
     },
     "execution_count": 16,
     "metadata": {},
     "output_type": "execute_result"
    }
   ],
   "source": [
    "region_labels\n",
    "# print(len(region_labels))\n",
    "# print(region_labels)"
   ]
  },
  {
   "cell_type": "markdown",
   "metadata": {},
   "source": [
    "## Determine whether a point is within a polygon given its vertices.\n",
    "## 判断一个点是否在给定顶点的多边形内,通过判断点是否在某个多边形中从而判断点的label"
   ]
  },
  {
   "cell_type": "code",
   "execution_count": 12,
   "metadata": {
    "ExecuteTime": {
     "end_time": "2023-10-24T07:52:10.878677600Z",
     "start_time": "2023-10-24T07:52:10.443329600Z"
    }
   },
   "outputs": [],
   "source": [
    "from shapely.geometry import Polygon, Point"
   ]
  },
  {
   "cell_type": "code",
   "execution_count": 30,
   "metadata": {
    "collapsed": true,
    "ExecuteTime": {
     "end_time": "2023-10-24T08:20:11.026479Z",
     "start_time": "2023-10-24T08:20:10.983598500Z"
    }
   },
   "outputs": [],
   "source": [
    "label_map = {'Normal': 0,\n",
    "             'Benign': 1,\n",
    "             'Carcinoma in situ': 2,\n",
    "             'Carcinoma invasive': 3,\n",
    "            }\n",
    "\n",
    "\n",
    "def generate_label(regions, region_labels, point):\n",
    "    # regions = array of vertices (all_coords)\n",
    "    # point [x, y]\n",
    "    for i in range(len(region_labels)):\n",
    "        poly = Polygon(regions[i])\n",
    "        if poly.contains(Point(point[0], point[1])):\n",
    "            return label_map[region_labels[i]]\n",
    "    return label_map['Normal']"
   ]
  },
  {
   "cell_type": "code",
   "execution_count": 19,
   "metadata": {
    "ExecuteTime": {
     "end_time": "2023-10-24T08:01:19.576208800Z",
     "start_time": "2023-10-24T08:01:19.548943100Z"
    }
   },
   "outputs": [
    {
     "data": {
      "text/plain": "0"
     },
     "execution_count": 19,
     "metadata": {},
     "output_type": "execute_result"
    }
   ],
   "source": [
    "generate_label(regions, region_labels, [7500, 21600])"
   ]
  },
  {
   "cell_type": "code",
   "execution_count": 20,
   "metadata": {
    "collapsed": true,
    "ExecuteTime": {
     "end_time": "2023-10-24T08:02:25.321698500Z",
     "start_time": "2023-10-24T08:02:25.284288600Z"
    }
   },
   "outputs": [],
   "source": [
    "patch_size = 256\n",
    "percent_overlap = 0\n",
    "file_dir = r\"H:\\ICIAR2018BACH_Challenge\\ICIAR2018_BACH_Challenge\\py_wsi_data\"\n",
    "file_name = \"A01.svs\"\n",
    "xml_file = \"A01.xml\"\n",
    "xml_dir = r\"H:\\ICIAR2018BACH_Challenge\\ICIAR2018_BACH_Challenge\\py_wsi_data\"\n",
    "level = 12"
   ]
  },
  {
   "cell_type": "code",
   "execution_count": 22,
   "metadata": {
    "ExecuteTime": {
     "end_time": "2023-10-24T08:09:57.116227500Z",
     "start_time": "2023-10-24T08:09:56.221158300Z"
    }
   },
   "outputs": [],
   "source": [
    "overlap = int(patch_size*percent_overlap / 2.0)\n",
    "tile_size = patch_size - overlap*2\n",
    "\n",
    "slide = open_slide(file_dir +\"\\\\\" + file_name) \n",
    "tiles = DeepZoomGenerator(slide, tile_size=tile_size, overlap=overlap, limit_bounds=False)\n",
    "\n",
    "if level >= tiles.level_count:\n",
    "    print(\"Error: requested level does not exist. Slide level count: \" + str(tiles.level_count))\n",
    "\n",
    "x_tiles, y_tiles = tiles.level_tiles[level]"
   ]
  },
  {
   "cell_type": "code",
   "execution_count": 24,
   "metadata": {
    "ExecuteTime": {
     "end_time": "2023-10-24T08:10:02.722274800Z",
     "start_time": "2023-10-24T08:10:02.698089500Z"
    }
   },
   "outputs": [
    {
     "name": "stdout",
     "output_type": "stream",
     "text": [
      "16\n",
      "11\n"
     ]
    }
   ],
   "source": [
    "print(x_tiles)\n",
    "print(y_tiles)"
   ]
  },
  {
   "cell_type": "code",
   "execution_count": 27,
   "metadata": {
    "ExecuteTime": {
     "end_time": "2023-10-24T08:15:39.040747400Z",
     "start_time": "2023-10-24T08:15:39.025799500Z"
    }
   },
   "outputs": [
    {
     "data": {
      "text/plain": "(20480, 8192)"
     },
     "execution_count": 27,
     "metadata": {},
     "output_type": "execute_result"
    }
   ],
   "source": [
    "tiles.get_tile_coordinates(level, (5, 2))[0]\n",
    "# tiles.get_tile_coordinates(level,(5,2))[1]"
   ]
  },
  {
   "cell_type": "code",
   "execution_count": 31,
   "metadata": {
    "ExecuteTime": {
     "end_time": "2023-10-24T08:20:38.847093600Z",
     "start_time": "2023-10-24T08:20:17.390114900Z"
    }
   },
   "outputs": [],
   "source": [
    "patches, coords, labels = [], [], []\n",
    "x, y = 0, 0\n",
    "count = 0\n",
    "while y < y_tiles:\n",
    "    while x < x_tiles:\n",
    "        new_tile = np.array(tiles.get_tile(level, (x, y)), dtype=np.int8)\n",
    "        # OpenSlide calculates overlap in such a way that sometimes depending on the dimensions, edge \n",
    "        # patches are smaller than the others. We will ignore such patches.\n",
    "        if np.shape(new_tile) == (patch_size, patch_size, 3):\n",
    "            patches.append(new_tile)\n",
    "            coords.append(np.array([x, y]))\n",
    "            count += 1\n",
    "\n",
    "            # Calculate the patch label based on centre point.\n",
    "            if xml_file:\n",
    "                converted_coords = tiles.get_tile_coordinates(level, (x, y))[0]\n",
    "                labels.append(generate_label(regions, region_labels, converted_coords))\n",
    "        x += 1\n",
    "    y += 1\n",
    "    x = 0\n",
    "\n",
    "# image_ids = [im_id]*count"
   ]
  },
  {
   "cell_type": "code",
   "execution_count": 34,
   "metadata": {
    "ExecuteTime": {
     "end_time": "2023-10-24T08:22:04.776399Z",
     "start_time": "2023-10-24T08:22:04.743764200Z"
    }
   },
   "outputs": [
    {
     "name": "stdout",
     "output_type": "stream",
     "text": [
      "(150, 256, 256, 3)\n",
      "(150, 2)\n",
      "(150,)\n"
     ]
    }
   ],
   "source": [
    "print(np.shape(patches))\n",
    "print(np.shape(coords))\n",
    "print(np.shape(labels))"
   ]
  },
  {
   "cell_type": "code",
   "execution_count": 35,
   "metadata": {
    "scrolled": true,
    "ExecuteTime": {
     "end_time": "2023-10-24T08:22:39.670739900Z",
     "start_time": "2023-10-24T08:22:39.661766800Z"
    }
   },
   "outputs": [
    {
     "data": {
      "text/plain": "38"
     },
     "execution_count": 35,
     "metadata": {},
     "output_type": "execute_result"
    }
   ],
   "source": [
    "np.count_nonzero(labels)"
   ]
  },
  {
   "cell_type": "code",
   "execution_count": 36,
   "metadata": {
    "collapsed": true,
    "ExecuteTime": {
     "end_time": "2023-10-24T08:22:48.782416200Z",
     "start_time": "2023-10-24T08:22:48.772405800Z"
    }
   },
   "outputs": [],
   "source": [
    "name = 'tester.svs'"
   ]
  },
  {
   "cell_type": "code",
   "execution_count": 37,
   "metadata": {
    "ExecuteTime": {
     "end_time": "2023-10-24T08:22:50.771109800Z",
     "start_time": "2023-10-24T08:22:50.746175300Z"
    }
   },
   "outputs": [
    {
     "data": {
      "text/plain": "'tester'"
     },
     "execution_count": 37,
     "metadata": {},
     "output_type": "execute_result"
    }
   ],
   "source": [
    "name[:-4]"
   ]
  },
  {
   "cell_type": "code",
   "execution_count": null,
   "metadata": {
    "collapsed": true
   },
   "outputs": [],
   "source": []
  }
 ],
 "metadata": {
  "kernelspec": {
   "display_name": "Python 3",
   "language": "python",
   "name": "python3"
  },
  "language_info": {
   "codemirror_mode": {
    "name": "ipython",
    "version": 3
   },
   "file_extension": ".py",
   "mimetype": "text/x-python",
   "name": "python",
   "nbconvert_exporter": "python",
   "pygments_lexer": "ipython3",
   "version": "3.6.1"
  }
 },
 "nbformat": 4,
 "nbformat_minor": 2
}
